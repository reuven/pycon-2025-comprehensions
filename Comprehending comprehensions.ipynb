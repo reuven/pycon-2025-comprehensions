{
 "cells": [
  {
   "cell_type": "markdown",
   "id": "b12fa254-a6a0-4413-8248-1abb9bee230b",
   "metadata": {},
   "source": [
    "# Agenda \n",
    "\n",
    "1. What are comprehensions?\n",
    "2. List comprehensions\n",
    "3. List comprehensions and files\n",
    "4. Set comprehensions\n",
    "5. Dict comprehensions\n",
    "6. Nested comprehensions\n",
    "7. Generator expressions (aka generator comprehensions)"
   ]
  },
  {
   "cell_type": "code",
   "execution_count": 1,
   "id": "bf246c4c-87e1-42ca-97b0-65159b10fd9f",
   "metadata": {},
   "outputs": [
    {
     "data": {
      "text/plain": [
       "[0, 1, 4, 9, 16, 25, 36, 49, 64, 81]"
      ]
     },
     "execution_count": 1,
     "metadata": {},
     "output_type": "execute_result"
    }
   ],
   "source": [
    "# I have  a list of integers\n",
    "# I want to get a list of those integers squared\n",
    "\n",
    "numbers = range(10)\n",
    "\n",
    "output = []\n",
    "\n",
    "for one_number in numbers:\n",
    "    output.append(one_number ** 2)\n",
    "\n",
    "output    "
   ]
  },
  {
   "cell_type": "markdown",
   "id": "41c0f163-34a9-4c33-bb56-9785201ff3d7",
   "metadata": {},
   "source": [
    "A comprehension (a list comprehension) is perfect for when you want to get a new list based on an existing one (or any existing sequence).\n",
    "\n",
    "- I have a list of integers\n",
    "- I want a list of integers (the first list's squared)\n",
    "- I know how to transform each element in the first list to the second one\n",
    "\n"
   ]
  },
  {
   "cell_type": "code",
   "execution_count": 3,
   "id": "8c2206e5-2405-4662-9a19-daaaf10f82e5",
   "metadata": {},
   "outputs": [
    {
     "data": {
      "text/plain": [
       "[0, 1, 4, 9, 16, 25, 36, 49, 64, 81]"
      ]
     },
     "execution_count": 3,
     "metadata": {},
     "output_type": "execute_result"
    }
   ],
   "source": [
    "# here's the comprehension version of the above\n",
    "\n",
    "[one_number ** 2 for one_number in numbers]"
   ]
  },
  {
   "cell_type": "markdown",
   "id": "4b654a4d-3ad9-4fed-953c-082c3001143f",
   "metadata": {},
   "source": [
    "What's going on here?\n",
    "\n",
    "- We start from the `for` -- that loop runs first and foremost\n",
    "- The iterable value (`numbers`, here) that we iterate over can be anything -- not just a list\n",
    "- The first part of our comprehension is a Python expression -- meaning, an operation, function, or method call that returns a value\n",
    "- The expression is invoked once for each element in the iterable\n",
    "- The `[]` around our comprehension tell Python that we want to create a list\n",
    "\n"
   ]
  },
  {
   "cell_type": "code",
   "execution_count": 4,
   "id": "618e027b-fee2-40b1-b19e-36e3414fd610",
   "metadata": {},
   "outputs": [
    {
     "data": {
      "text/plain": [
       "[0, 1, 4, 9, 16, 25, 36, 49, 64, 81]"
      ]
     },
     "execution_count": 4,
     "metadata": {},
     "output_type": "execute_result"
    }
   ],
   "source": [
    "[one_number ** 2              # expression -- SELECT\n",
    " for one_number in numbers]   # iteration --  FROM "
   ]
  },
  {
   "cell_type": "markdown",
   "id": "ea292b7a-57aa-4439-9f75-dd21e394c94c",
   "metadata": {},
   "source": [
    "If you have a list already, and you want a new list based on it, you should use a comprehension!"
   ]
  },
  {
   "cell_type": "code",
   "execution_count": 5,
   "id": "7c39e35f-cc3e-42ef-9500-190dee7e7614",
   "metadata": {},
   "outputs": [
    {
     "data": {
      "text/plain": [
       "'abcde*fg*hij'"
      ]
     },
     "execution_count": 5,
     "metadata": {},
     "output_type": "execute_result"
    }
   ],
   "source": [
    "# if I have a list of strings\n",
    "\n",
    "mylist = ['abcde', 'fg', 'hij']\n",
    "\n",
    "# I want to get them back as a string, with '*' between them\n",
    "'*'.join(mylist)"
   ]
  },
  {
   "cell_type": "code",
   "execution_count": 6,
   "id": "5d9a3d5b-804b-40e4-af96-72ddde4e390d",
   "metadata": {},
   "outputs": [
    {
     "ename": "TypeError",
     "evalue": "sequence item 0: expected str instance, int found",
     "output_type": "error",
     "traceback": [
      "\u001b[0;31m---------------------------------------------------------------------------\u001b[0m",
      "\u001b[0;31mTypeError\u001b[0m                                 Traceback (most recent call last)",
      "Cell \u001b[0;32mIn[6], line 5\u001b[0m\n\u001b[1;32m      1\u001b[0m \u001b[38;5;66;03m# what if I have a list of integers?\u001b[39;00m\n\u001b[1;32m      3\u001b[0m mylist \u001b[38;5;241m=\u001b[39m [\u001b[38;5;241m10\u001b[39m, \u001b[38;5;241m20\u001b[39m, \u001b[38;5;241m30\u001b[39m, \u001b[38;5;241m40\u001b[39m, \u001b[38;5;241m50\u001b[39m]\n\u001b[0;32m----> 5\u001b[0m \u001b[38;5;124;43m'\u001b[39;49m\u001b[38;5;124;43m*\u001b[39;49m\u001b[38;5;124;43m'\u001b[39;49m\u001b[38;5;241;43m.\u001b[39;49m\u001b[43mjoin\u001b[49m\u001b[43m(\u001b[49m\u001b[43mmylist\u001b[49m\u001b[43m)\u001b[49m\n",
      "\u001b[0;31mTypeError\u001b[0m: sequence item 0: expected str instance, int found"
     ]
    }
   ],
   "source": [
    "# what if I have a list of integers?\n",
    "\n",
    "mylist = [10, 20, 30, 40, 50]\n",
    "\n",
    "'*'.join(mylist)"
   ]
  },
  {
   "cell_type": "code",
   "execution_count": 7,
   "id": "f646fdf4-ff78-45e5-9342-a770580c521a",
   "metadata": {},
   "outputs": [
    {
     "data": {
      "text/plain": [
       "'10*20*30*40*50'"
      ]
     },
     "execution_count": 7,
     "metadata": {},
     "output_type": "execute_result"
    }
   ],
   "source": [
    "# we have an iterable of integers\n",
    "# we want an iterable of strings\n",
    "# we can convert from integers to strings with str()\n",
    "\n",
    "mylist = [10, 20, 30, 40, 50]\n",
    "\n",
    "'*'.join([str(one_number)\n",
    "         for one_number in mylist])"
   ]
  },
  {
   "cell_type": "code",
   "execution_count": 8,
   "id": "46efcc92-ead7-4365-bf5e-5f1ad52049f3",
   "metadata": {},
   "outputs": [
    {
     "data": {
      "text/plain": [
       "['10', '20', '30', '40', '50']"
      ]
     },
     "execution_count": 8,
     "metadata": {},
     "output_type": "execute_result"
    }
   ],
   "source": [
    "[str(one_number)\n",
    "         for one_number in mylist]"
   ]
  },
  {
   "cell_type": "code",
   "execution_count": 9,
   "id": "a8e01752-dcd1-4565-8062-60e678281b4f",
   "metadata": {},
   "outputs": [
    {
     "data": {
      "text/plain": [
       "'This Is A Sample Sentence For My Tutorial'"
      ]
     },
     "execution_count": 9,
     "metadata": {},
     "output_type": "execute_result"
    }
   ],
   "source": [
    "s = 'this is a sample sentence for my tutorial'\n",
    "\n",
    "s.title()"
   ]
  },
  {
   "cell_type": "code",
   "execution_count": 10,
   "id": "e170e324-5bdf-4c00-9bae-c6bb09e6142d",
   "metadata": {},
   "outputs": [
    {
     "data": {
      "text/plain": [
       "'This is a sample sentence for my tutorial'"
      ]
     },
     "execution_count": 10,
     "metadata": {},
     "output_type": "execute_result"
    }
   ],
   "source": [
    "# can I do the same thing as str.title but using only str.capitalize?\n",
    "\n",
    "s.capitalize()"
   ]
  },
  {
   "cell_type": "code",
   "execution_count": 13,
   "id": "eee0ad70-f815-41a3-a7e0-1cb023389768",
   "metadata": {},
   "outputs": [
    {
     "data": {
      "text/plain": [
       "'This Is A Sample Sentence For My Tutorial'"
      ]
     },
     "execution_count": 13,
     "metadata": {},
     "output_type": "execute_result"
    }
   ],
   "source": [
    "' '.join([one_word.capitalize()\n",
    "          for one_word in s.split()])"
   ]
  },
  {
   "cell_type": "markdown",
   "id": "3fbfd616-c973-4a48-adec-fa6c660aa62d",
   "metadata": {},
   "source": [
    "# Exercises:\n",
    "\n",
    "1. Ask the user to enter a string containing numbers, separated by spaces. Add those numbers together (as integers), and print the result. It's OK to use the builtin `sum` function. We can assume that our user will only enter digits and whitespace.\n",
    "2. Ask the user to enter a string, and print the length of the string, except for whitespace. Don't use `str.replace`."
   ]
  },
  {
   "cell_type": "code",
   "execution_count": 16,
   "id": "4f7a400d-2389-4d2a-a950-5b7b2fa522d3",
   "metadata": {},
   "outputs": [
    {
     "name": "stdin",
     "output_type": "stream",
     "text": [
      "Enter some numbers:  10 20 30 40 50\n"
     ]
    },
    {
     "data": {
      "text/plain": [
       "150"
      ]
     },
     "execution_count": 16,
     "metadata": {},
     "output_type": "execute_result"
    }
   ],
   "source": [
    "text = input('Enter some numbers: ').strip()\n",
    "\n",
    "sum([int(one_number)\n",
    "    for one_number in text.split()])"
   ]
  },
  {
   "cell_type": "code",
   "execution_count": 19,
   "id": "93fe3f17-051d-43bb-b9bc-d3fb1660db6b",
   "metadata": {},
   "outputs": [
    {
     "name": "stdin",
     "output_type": "stream",
     "text": [
      "Enter a sentence:  hello out there\n"
     ]
    },
    {
     "data": {
      "text/plain": [
       "13"
      ]
     },
     "execution_count": 19,
     "metadata": {},
     "output_type": "execute_result"
    }
   ],
   "source": [
    "text = input('Enter a sentence: ').strip()\n",
    "\n",
    "sum([len(one_word)\n",
    "    for one_word in text.split()])"
   ]
  },
  {
   "cell_type": "code",
   "execution_count": null,
   "id": "6247b537-7903-4356-ade2-9adfcb5daa0a",
   "metadata": {},
   "outputs": [],
   "source": []
  }
 ],
 "metadata": {
  "kernelspec": {
   "display_name": "Python 3 (ipykernel)",
   "language": "python",
   "name": "python3"
  },
  "language_info": {
   "codemirror_mode": {
    "name": "ipython",
    "version": 3
   },
   "file_extension": ".py",
   "mimetype": "text/x-python",
   "name": "python",
   "nbconvert_exporter": "python",
   "pygments_lexer": "ipython3",
   "version": "3.13.1"
  },
  "widgets": {
   "application/vnd.jupyter.widget-state+json": {
    "state": {},
    "version_major": 2,
    "version_minor": 0
   }
  }
 },
 "nbformat": 4,
 "nbformat_minor": 5
}
