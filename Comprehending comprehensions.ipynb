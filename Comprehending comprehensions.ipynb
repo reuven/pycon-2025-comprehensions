{
 "cells": [
  {
   "cell_type": "markdown",
   "id": "b12fa254-a6a0-4413-8248-1abb9bee230b",
   "metadata": {},
   "source": [
    "# Agenda \n",
    "\n",
    "1. What are comprehensions?\n",
    "2. List comprehensions\n",
    "3. List comprehensions and files\n",
    "4. Set comprehensions\n",
    "5. Dict comprehensions\n",
    "6. Nested comprehensions\n",
    "7. Generator expressions (aka generator comprehensions)"
   ]
  },
  {
   "cell_type": "code",
   "execution_count": null,
   "id": "bf246c4c-87e1-42ca-97b0-65159b10fd9f",
   "metadata": {},
   "outputs": [],
   "source": []
  }
 ],
 "metadata": {
  "kernelspec": {
   "display_name": "Python 3 (ipykernel)",
   "language": "python",
   "name": "python3"
  },
  "language_info": {
   "codemirror_mode": {
    "name": "ipython",
    "version": 3
   },
   "file_extension": ".py",
   "mimetype": "text/x-python",
   "name": "python",
   "nbconvert_exporter": "python",
   "pygments_lexer": "ipython3",
   "version": "3.13.1"
  },
  "widgets": {
   "application/vnd.jupyter.widget-state+json": {
    "state": {},
    "version_major": 2,
    "version_minor": 0
   }
  }
 },
 "nbformat": 4,
 "nbformat_minor": 5
}
