{
 "cells": [
  {
   "cell_type": "markdown",
   "id": "b12fa254-a6a0-4413-8248-1abb9bee230b",
   "metadata": {},
   "source": [
    "# Agenda \n",
    "\n",
    "1. What are comprehensions?\n",
    "2. List comprehensions\n",
    "3. List comprehensions and files\n",
    "4. Set comprehensions\n",
    "5. Dict comprehensions\n",
    "6. Nested comprehensions\n",
    "7. Generator expressions (aka generator comprehensions)"
   ]
  },
  {
   "cell_type": "code",
   "execution_count": 1,
   "id": "bf246c4c-87e1-42ca-97b0-65159b10fd9f",
   "metadata": {},
   "outputs": [
    {
     "data": {
      "text/plain": [
       "[0, 1, 4, 9, 16, 25, 36, 49, 64, 81]"
      ]
     },
     "execution_count": 1,
     "metadata": {},
     "output_type": "execute_result"
    }
   ],
   "source": [
    "# I have  a list of integers\n",
    "# I want to get a list of those integers squared\n",
    "\n",
    "numbers = range(10)\n",
    "\n",
    "output = []\n",
    "\n",
    "for one_number in numbers:\n",
    "    output.append(one_number ** 2)\n",
    "\n",
    "output    "
   ]
  },
  {
   "cell_type": "markdown",
   "id": "41c0f163-34a9-4c33-bb56-9785201ff3d7",
   "metadata": {},
   "source": [
    "A comprehension (a list comprehension) is perfect for when you want to get a new list based on an existing one (or any existing sequence).\n",
    "\n",
    "- I have a list of integers\n",
    "- I want a list of integers (the first list's squared)\n",
    "- I know how to transform each element in the first list to the second one\n",
    "\n"
   ]
  },
  {
   "cell_type": "code",
   "execution_count": 2,
   "id": "8c2206e5-2405-4662-9a19-daaaf10f82e5",
   "metadata": {},
   "outputs": [
    {
     "data": {
      "text/plain": [
       "[0, 1, 4, 9, 16, 25, 36, 49, 64, 81]"
      ]
     },
     "execution_count": 2,
     "metadata": {},
     "output_type": "execute_result"
    }
   ],
   "source": [
    "# here's the comprehension version of the above\n",
    "\n",
    "[one_number ** 2 for one_number in numbers]"
   ]
  },
  {
   "cell_type": "markdown",
   "id": "4b654a4d-3ad9-4fed-953c-082c3001143f",
   "metadata": {},
   "source": [
    "What's going on here?\n",
    "\n",
    "- We start from the `for` -- that loop runs "
   ]
  }
 ],
 "metadata": {
  "kernelspec": {
   "display_name": "Python 3 (ipykernel)",
   "language": "python",
   "name": "python3"
  },
  "language_info": {
   "codemirror_mode": {
    "name": "ipython",
    "version": 3
   },
   "file_extension": ".py",
   "mimetype": "text/x-python",
   "name": "python",
   "nbconvert_exporter": "python",
   "pygments_lexer": "ipython3",
   "version": "3.13.1"
  },
  "widgets": {
   "application/vnd.jupyter.widget-state+json": {
    "state": {},
    "version_major": 2,
    "version_minor": 0
   }
  }
 },
 "nbformat": 4,
 "nbformat_minor": 5
}
